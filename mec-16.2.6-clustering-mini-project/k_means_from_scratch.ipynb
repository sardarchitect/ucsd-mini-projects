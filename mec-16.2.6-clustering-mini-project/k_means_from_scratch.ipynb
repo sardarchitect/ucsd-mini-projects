{
 "cells": [
  {
   "cell_type": "code",
   "execution_count": 146,
   "id": "aa5f5e7d",
   "metadata": {},
   "outputs": [],
   "source": [
    "# Source : https://kenzotakahashi.github.io/k-means-clustering-from-scratch-in-python.html"
   ]
  },
  {
   "cell_type": "code",
   "execution_count": 147,
   "id": "240ae84a",
   "metadata": {},
   "outputs": [],
   "source": [
    "import numpy as np"
   ]
  },
  {
   "cell_type": "code",
   "execution_count": 148,
   "id": "aa526e01",
   "metadata": {},
   "outputs": [],
   "source": [
    "class KMeans(object):\n",
    "    def __init__(self, n_clusters=8, max_iter=300, random_state=None):\n",
    "        self.n_clusters = n_clusters\n",
    "        self.max_iter = max_iter\n",
    "        self.random_state = random_state\n",
    "    \n",
    "    def fit(self, X):\n",
    "        # Set random state\n",
    "        if self.random_state:\n",
    "            np.random.seed(self.random_state)\n",
    "\n",
    "        # Set cluster centers to random values in X\n",
    "        random_choice = np.random.choice(np.arange(0, X.shape[0]), size=self.n_clusters)\n",
    "        self.cluster_centers_ = np.zeros((self.n_clusters, X.shape[1]))\n",
    "        for i in range(self.n_clusters):\n",
    "            self.cluster_centers_[i] = X[random_choice][i]\n",
    "        \n",
    "        # Training loop\n",
    "        for _ in range(self.max_iter):\n",
    "            self.labels_ = [self._nearest(self.cluster_centers_, x) for x in X]           \n",
    "            \n",
    "            indices = [[] for _ in range(self.n_clusters)]\n",
    "            for idx, l in enumerate(self.labels_):\n",
    "                indices[l].append(idx)\n",
    "            \n",
    "            X_by_cluster = [X[i] for i in indices]\n",
    "            self.cluster_centers_ = [c.sum(axis=0) / len(c) for c in X_by_cluster]\n",
    "        \n",
    "        self.inertia_ = [sum(((self.cluster_centers_[l] - x)**2).sum() for x, l in zip(X, self.labels_))]\n",
    "        return self\n",
    "    def score(self, X):\n",
    "        return -self.inertia_\n",
    "\n",
    "    def _nearest(self, clusters, x):\n",
    "        distances = []\n",
    "        for c in clusters:\n",
    "            distances.append(self._distance(x, c))\n",
    "        return np.argmin(distances)\n",
    "                             \n",
    "    def _distance(self, a, b):\n",
    "        return np.sqrt(np.sum((a - b)**2, axis=0))\n",
    "    \n",
    "    def predict(self, X):\n",
    "        return self.labels_\n",
    "\n",
    "    def transform(self, X):\n",
    "        return [[self._distance(x, c) for c in self.cluster_centers_] for x in X]\n",
    "\n",
    "    def fit_predict(self, X):\n",
    "        return self.fit(X).predict(X)\n",
    "\n",
    "    def fit_transform(self, X):\n",
    "        return self.fit(X).transform(X)"
   ]
  },
  {
   "cell_type": "code",
   "execution_count": 149,
   "id": "e062764a",
   "metadata": {},
   "outputs": [],
   "source": [
    "X = np.array([[1,1],[1,2],[2,2],[4,5],[5,4]])\n",
    "\n",
    "kmeans = KMeans(2, 5, 4).fit(X)"
   ]
  },
  {
   "cell_type": "code",
   "execution_count": null,
   "id": "3a0e030f",
   "metadata": {},
   "outputs": [],
   "source": []
  }
 ],
 "metadata": {
  "kernelspec": {
   "display_name": "Python 3 (ipykernel)",
   "language": "python",
   "name": "python3"
  },
  "language_info": {
   "codemirror_mode": {
    "name": "ipython",
    "version": 3
   },
   "file_extension": ".py",
   "mimetype": "text/x-python",
   "name": "python",
   "nbconvert_exporter": "python",
   "pygments_lexer": "ipython3",
   "version": "3.10.9"
  }
 },
 "nbformat": 4,
 "nbformat_minor": 5
}
